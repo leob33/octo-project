{
 "cells": [
  {
   "cell_type": "code",
   "execution_count": 1,
   "metadata": {},
   "outputs": [],
   "source": [
    "import pandas as pd\n",
    "import glob\n",
    "import os "
   ]
  },
  {
   "cell_type": "markdown",
   "metadata": {},
   "source": [
    "# Discover the data"
   ]
  },
  {
   "cell_type": "code",
   "execution_count": 2,
   "metadata": {},
   "outputs": [
    {
     "data": {
      "text/plain": [
       "(1000, 10)"
      ]
     },
     "execution_count": 2,
     "metadata": {},
     "output_type": "execute_result"
    }
   ],
   "source": [
    "path = glob.glob(os.getcwd()+\"/*.csv\")\n",
    "data = pd.read_csv(path[0], index_col=0)\n",
    "data.shape"
   ]
  },
  {
   "cell_type": "code",
   "execution_count": 3,
   "metadata": {},
   "outputs": [
    {
     "name": "stdout",
     "output_type": "stream",
     "text": [
      "<class 'pandas.core.frame.DataFrame'>\n",
      "Int64Index: 1000 entries, 0 to 999\n",
      "Data columns (total 10 columns):\n",
      " #   Column            Non-Null Count  Dtype \n",
      "---  ------            --------------  ----- \n",
      " 0   Age               1000 non-null   int64 \n",
      " 1   Sex               1000 non-null   object\n",
      " 2   Job               1000 non-null   int64 \n",
      " 3   Housing           1000 non-null   object\n",
      " 4   Saving accounts   817 non-null    object\n",
      " 5   Checking account  606 non-null    object\n",
      " 6   Credit amount     1000 non-null   int64 \n",
      " 7   Duration          1000 non-null   int64 \n",
      " 8   Purpose           1000 non-null   object\n",
      " 9   Risk              1000 non-null   object\n",
      "dtypes: int64(4), object(6)\n",
      "memory usage: 85.9+ KB\n"
     ]
    }
   ],
   "source": [
    "data.info()"
   ]
  },
  {
   "cell_type": "code",
   "execution_count": 4,
   "metadata": {},
   "outputs": [
    {
     "data": {
      "text/html": [
       "<div>\n",
       "<style scoped>\n",
       "    .dataframe tbody tr th:only-of-type {\n",
       "        vertical-align: middle;\n",
       "    }\n",
       "\n",
       "    .dataframe tbody tr th {\n",
       "        vertical-align: top;\n",
       "    }\n",
       "\n",
       "    .dataframe thead th {\n",
       "        text-align: right;\n",
       "    }\n",
       "</style>\n",
       "<table border=\"1\" class=\"dataframe\">\n",
       "  <thead>\n",
       "    <tr style=\"text-align: right;\">\n",
       "      <th></th>\n",
       "      <th>Age</th>\n",
       "      <th>Sex</th>\n",
       "      <th>Job</th>\n",
       "      <th>Housing</th>\n",
       "      <th>Saving accounts</th>\n",
       "      <th>Checking account</th>\n",
       "      <th>Credit amount</th>\n",
       "      <th>Duration</th>\n",
       "      <th>Purpose</th>\n",
       "      <th>Risk</th>\n",
       "    </tr>\n",
       "  </thead>\n",
       "  <tbody>\n",
       "    <tr>\n",
       "      <th>0</th>\n",
       "      <td>67</td>\n",
       "      <td>male</td>\n",
       "      <td>2</td>\n",
       "      <td>own</td>\n",
       "      <td>NaN</td>\n",
       "      <td>little</td>\n",
       "      <td>1169</td>\n",
       "      <td>6</td>\n",
       "      <td>radio/TV</td>\n",
       "      <td>good</td>\n",
       "    </tr>\n",
       "    <tr>\n",
       "      <th>1</th>\n",
       "      <td>22</td>\n",
       "      <td>female</td>\n",
       "      <td>2</td>\n",
       "      <td>own</td>\n",
       "      <td>little</td>\n",
       "      <td>moderate</td>\n",
       "      <td>5951</td>\n",
       "      <td>48</td>\n",
       "      <td>radio/TV</td>\n",
       "      <td>bad</td>\n",
       "    </tr>\n",
       "  </tbody>\n",
       "</table>\n",
       "</div>"
      ],
      "text/plain": [
       "   Age     Sex  Job Housing Saving accounts Checking account  Credit amount  \\\n",
       "0   67    male    2     own             NaN           little           1169   \n",
       "1   22  female    2     own          little         moderate           5951   \n",
       "\n",
       "   Duration   Purpose  Risk  \n",
       "0         6  radio/TV  good  \n",
       "1        48  radio/TV   bad  "
      ]
     },
     "execution_count": 4,
     "metadata": {},
     "output_type": "execute_result"
    }
   ],
   "source": [
    "data.head(2)\n",
    "\n",
    "#in the dataset, each row is an individual that took a credit in a bank. \n",
    "#Each person is classified as good or bad credit risk"
   ]
  },
  {
   "cell_type": "code",
   "execution_count": 5,
   "metadata": {},
   "outputs": [
    {
     "data": {
      "text/plain": [
       "{'Age': dtype('int64'),\n",
       " 'Sex': dtype('O'),\n",
       " 'Job': dtype('int64'),\n",
       " 'Housing': dtype('O'),\n",
       " 'Saving accounts': dtype('O'),\n",
       " 'Checking account': dtype('O'),\n",
       " 'Credit amount': dtype('int64'),\n",
       " 'Duration': dtype('int64'),\n",
       " 'Purpose': dtype('O'),\n",
       " 'Risk': dtype('O')}"
      ]
     },
     "execution_count": 5,
     "metadata": {},
     "output_type": "execute_result"
    }
   ],
   "source": [
    "dict(data.dtypes)"
   ]
  },
  {
   "cell_type": "code",
   "execution_count": 6,
   "metadata": {},
   "outputs": [
    {
     "name": "stdout",
     "output_type": "stream",
     "text": [
      "[67 22 49 45 53 35 61 28 25 24 60 32 44 31 48 26 36 39 42 34 63 27 30 57\n",
      " 33 37 58 23 29 52 50 46 51 41 40 66 47 56 54 20 21 38 70 65 74 68 43 55\n",
      " 64 75 19 62 59]\n",
      "['male' 'female']\n",
      "[2 1 3 0]\n",
      "['own' 'free' 'rent']\n",
      "[nan 'little' 'quite rich' 'rich' 'moderate']\n",
      "['little' 'moderate' nan 'rich']\n",
      "[ 1169  5951  2096  7882  4870  9055  2835  6948  3059  5234  1295  4308\n",
      "  1567  1199  1403  1282  2424  8072 12579  3430  2134  2647  2241  1804\n",
      "  2069  1374   426   409  2415  6836  1913  4020  5866  1264  1474  4746\n",
      "  6110  2100  1225   458  2333  1158  6204  6187  6143  1393  2299  1352\n",
      "  7228  2073  5965  1262  3378  2225   783  6468  9566  1961  6229  1391\n",
      "  1537  1953 14421  3181  5190  2171  1007  1819  2394  8133   730  1164\n",
      "  5954  1977  1526  3965  4771  9436  3832  5943  1213  1568  1755  2315\n",
      "  1412 12612  2249  1108   618  1409   797  3617  1318 15945  2012  2622\n",
      "  2337  7057  1469  2323   932  1919  2445 11938  6458  6078  7721  1410\n",
      "  1449   392  6260  7855  1680  3578  7174  2132  4281  2366  1835  3868\n",
      "  1768   781  1924  2121   701   639  1860  3499  8487  6887  2708  1984\n",
      " 10144  1240  8613   766  2728  1881   709  4795  3416  2462  2288  3566\n",
      "   860   682  5371  1582  1346  5848  7758  6967  1288   339  3512  1898\n",
      "  2872  1055  7308   909  2978  1131  1577  3972  1935   950   763  2064\n",
      "  1414  3414  7485  2577   338  1963   571  9572  4455  1647  3777   884\n",
      "  1360  5129  1175   674  3244  4591  3844  3915  2108  3031  1501  1382\n",
      "   951  2760  4297   936  1168  5117   902  1495 10623  1424  6568  1413\n",
      "  3074  3835  5293  1908  3342  3104  3913  3021  1364   625  1200   707\n",
      "  4657  2613 10961  7865  1478  3149  4210  2507  2141   866  1544  1823\n",
      " 14555  2767  1291  2522   915  1595  4605  1185  3447  1258   717  1204\n",
      "  1925   433   666  2251  2150  4151  2030  7418  2684  2149  3812  1154\n",
      "  1657  1603  5302  2748  1231   802  6304  1533  8978   999  2662  1402\n",
      " 12169  3060 11998  2697  2404  4611  1901  3368  1574  1445  1520  3878\n",
      " 10722  4788  7582  1092  1024  1076  9398  6419  4796  7629  9960  4675\n",
      "  1287  2515  2745   672  3804  1344  1038 10127  1543  4811   727  1237\n",
      "   276  5381  5511  3749   685  1494  2746   708  4351  3643  4249  1938\n",
      "  2910  2659  1028  3398  5801  1525  4473  1068  6615  1864  7408 11590\n",
      "  4110  3384  2101  1275  4169  1521  5743  3599  3213  4439  3949  1459\n",
      "   882  3758  1743  1136  1236   959  3229  6199  1246  2331  4463   776\n",
      "  2406  1239  3399  2247  1766  2473  1542  3850  3650  3446  3001  3079\n",
      "  6070  2146 13756 14782  7685  2320   846 14318   362  2212 12976  1283\n",
      "  1330  4272  2238  1126  7374  2326  1820   983  3249  1957 11760  2578\n",
      "  2348  1223  1516  1473  1887  8648  2899  2039  2197  1053  3235   939\n",
      "  1967  7253  2292  1597  1381  5842  2579  8471  2782  1042  3186  2028\n",
      "   958  1591  2762  2779  2743  1149  1313  1190  3448 11328  1872  2058\n",
      "  2136  1484   660  3394   609  1884  1620  2629   719  5096  1244  1842\n",
      "  2576  1512 11054   518  2759  2670  4817  2679  3905  3386   343  4594\n",
      "  3620  1721  3017   754  1950  2924  1659  7238  2764  4679  3092   448\n",
      "   654  1238  1245  3114  2569  5152  1037  3573  1201  3622   960  1163\n",
      "  1209  3077  3757  1418  3518  1934  8318   368  2122  2996  9034  1585\n",
      "  1301  1323  3123  5493  1216  1207  1309  2360  6850  8588   759  4686\n",
      "  2687   585  2255  1361  7127  1203   700  5507  3190  7119  3488  1113\n",
      "  7966  1532  1503  2302   662  2273  2631  1311  3105  2319  3612  7763\n",
      "  3049  1534  2032  6350  2864  1255  1333  2022  1552   626  8858   996\n",
      "  1750  6999  1995  1331  2278  5003  3552  1928  2964  1546   683 12389\n",
      "  4712  1553  1372  3979  6758  3234  5433   806  1082  2788  2930  1927\n",
      "  2820   937  1056  3124  1388  2384  2133  2799  1289  1217  2246   385\n",
      "  1965  1572  2718  1358   931  1442  4241  2775  3863  2329   918  1837\n",
      "  3349  2828  4526  2671  2051  1300   741  3357  3632  1808 12204  9157\n",
      "  3676  3441   640  3652  1530  3914  1858  2600  1979  2116  1437  4042\n",
      "  3660  1444  1980  1355  1376 15653  1493  4370   750  1308  4623  1851\n",
      "  1880  7980  4583  1386   947   684  7476  1922  2303  8086  2346  3973\n",
      "   888 10222  4221  6361  1297   900  1050  1047  6314  3496  3609  4843\n",
      "  4139  5742 10366  2080  2580  4530  5150  5595  1453  1538  2279  5103\n",
      "  9857  6527  1347  2862  2753  3651   975  2896  4716  2284  1103   926\n",
      "  1800  1905  1123  6331  1377  2503  2528  5324  6560  2969  1206  2118\n",
      "   629  1198  2476  1138 14027  7596  1505  3148  6148  1337  1228   790\n",
      "  2570   250  1316  1882  6416  6403  1987   760  2603  3380  3990 11560\n",
      "  4380  6761  4280  2325  1048  3160  2483 14179  1797  2511  1274  5248\n",
      "  3029   428   976   841  5771  1555  1285  1299  1271   691  5045  2124\n",
      "  2214 12680  2463  1155  3108  2901  1655  2812  8065  3275  2223  1480\n",
      "  1371  3535  3509  5711  3872  4933  1940   836  1941  2675  2751  6224\n",
      "  5998  1188  6313  1221  2892  3062  2301  7511  1549  1795  7472  9271\n",
      "   590   930  9283  1778   907   484  9629  3051  3931  7432  1338  1554\n",
      " 15857  1345  1101  3016  2712   731  3780  1602  3966  4165  8335  6681\n",
      "  2375 11816  5084  2327   886   601  2957  2611  5179  2993  1943  1559\n",
      "  3422  3976  1249  2235  1471 10875   894  3343  3959  3577  5804  2169\n",
      "  2439  2210  2221  2389  3331  7409   652  7678  1343   874  3590  1322\n",
      "  3595  1422  6742  7814  9277  2181  1098  4057   795  2825 15672  6614\n",
      "  7824  2442  1829  5800  8947  2606  1592  2186  4153  2625  3485 10477\n",
      "  1278  1107  3763  3711  3594  3195  4454  4736  2991  2142  3161 18424\n",
      "  2848 14896  2359  3345  1817 12749  1366  2002  6872   697  1049 10297\n",
      "  1867  1747  1670  1224   522  1498   745  2063  6288  6842  3527   929\n",
      "  1455  1845  8358  2859  3621  2145  4113 10974  1893  3656  4006  3069\n",
      "  1740  2353  3556  2397   454  1715  2520  3568  7166  3939  1514  7393\n",
      "  1193  7297  2831   753  2427  2538  8386  4844  2923  8229  1433  6289\n",
      "  6579  3565  1569  1936  2390  1736  3857   804  4576]\n",
      "[ 6 48 12 42 24 36 30 15  9 10  7 60 18 45 11 27  8 54 20 14 33 21 16  4\n",
      " 47 13 22 39 28  5 26 72 40]\n",
      "['radio/TV' 'education' 'furniture/equipment' 'car' 'business'\n",
      " 'domestic appliances' 'repairs' 'vacation/others']\n",
      "['good' 'bad']\n"
     ]
    }
   ],
   "source": [
    "for k in data.columns:\n",
    "    print(data[k].unique())"
   ]
  },
  {
   "cell_type": "markdown",
   "metadata": {},
   "source": [
    "# Define a feature engineering pipeline"
   ]
  },
  {
   "cell_type": "code",
   "execution_count": 7,
   "metadata": {},
   "outputs": [],
   "source": [
    "from sklearn.preprocessing import FunctionTransformer, OneHotEncoder, MinMaxScaler\n",
    "from sklearn.impute import SimpleImputer\n",
    "from sklearn.compose import make_column_transformer, make_column_selector\n",
    "from sklearn.pipeline import Pipeline\n",
    "import numpy as np\n",
    "\n",
    "X = data.loc[:,~data.columns.isin([\"Risk\"])]\n",
    "data.Risk.replace([\"good\",\"bad\"], [1,0], inplace=True)\n",
    "y = data[\"Risk\"]\n",
    "# 1 = good and 0 = bad "
   ]
  },
  {
   "cell_type": "code",
   "execution_count": 8,
   "metadata": {},
   "outputs": [],
   "source": [
    "def categorize_age(X):\n",
    "    X['Age_cat'] = pd.cut(X.Age,(18, 25, 35, 60, 120), labels=['Baby', 'Young', 'Adult', 'Senior'])\n",
    "    return X\n",
    "\n",
    "def fill_na(X):\n",
    "    return X.replace(np.nan,\"unknown\")\n",
    "\n",
    "transfna = FunctionTransformer(fill_na)\n",
    "age_categorizer = FunctionTransformer(categorize_age) #transform age into categories\n",
    "ohe = OneHotEncoder(drop='first') #transform all categorical variables into binary ones, drop first since we will get redundant info\n",
    "mms = MinMaxScaler() #transform all numerical variables into 0-1 data\n",
    "ct = make_column_transformer((ohe,make_column_selector(dtype_exclude=int)),\n",
    "                            (mms, make_column_selector(dtype_include=int)),\n",
    "                            remainder='passthrough')\n",
    "\n",
    "steps = [('manage_na', transfna ),\n",
    "        ('add_age_cat', age_categorizer),\n",
    "        ('preprocessing', ct)]\n",
    "\n",
    "preprocessing_pipeline = Pipeline(steps=steps)"
   ]
  },
  {
   "cell_type": "markdown",
   "metadata": {},
   "source": [
    "# Create a first model : Random Forest for binary classification (+ Singular value decomposition)"
   ]
  },
  {
   "cell_type": "code",
   "execution_count": 9,
   "metadata": {},
   "outputs": [],
   "source": [
    "from sklearn.decomposition import TruncatedSVD\n",
    "from sklearn.ensemble import RandomForestClassifier\n",
    "from sklearn.model_selection import train_test_split\n",
    "\n",
    "X_train, X_test, y_train, y_test = train_test_split(X,y,test_size=0.2)\n",
    "\n",
    "pipe_rf = Pipeline([(\"final_preprocessing\", preprocessing_pipeline),\n",
    "                    ('svd', TruncatedSVD(n_components=2)),\n",
    "                    ('clf', RandomForestClassifier(n_estimators=10))])"
   ]
  },
  {
   "cell_type": "code",
   "execution_count": 10,
   "metadata": {},
   "outputs": [
    {
     "data": {
      "text/plain": [
       "Pipeline(steps=[('final_preprocessing',\n",
       "                 Pipeline(steps=[('manage_na',\n",
       "                                  FunctionTransformer(func=<function fill_na at 0x7feb4def7ef0>)),\n",
       "                                 ('add_age_cat',\n",
       "                                  FunctionTransformer(func=<function categorize_age at 0x7feb4def7830>)),\n",
       "                                 ('preprocessing',\n",
       "                                  ColumnTransformer(remainder='passthrough',\n",
       "                                                    transformers=[('onehotencoder',\n",
       "                                                                   OneHotEncoder(drop='first'),\n",
       "                                                                   <sklearn.compose._column_transformer.make_column_selector object at 0x7feb5341bc10>),\n",
       "                                                                  ('minmaxscaler',\n",
       "                                                                   MinMaxScaler(),\n",
       "                                                                   <sklearn.compose._column_transformer.make_column_selector object at 0x7feb5341bc90>)]))])),\n",
       "                ('svd', TruncatedSVD()),\n",
       "                ('clf', RandomForestClassifier(n_estimators=10))])"
      ]
     },
     "execution_count": 10,
     "metadata": {},
     "output_type": "execute_result"
    }
   ],
   "source": [
    "pipe_rf.fit(X_train, y_train.ravel())"
   ]
  },
  {
   "cell_type": "code",
   "execution_count": 11,
   "metadata": {},
   "outputs": [
    {
     "name": "stdout",
     "output_type": "stream",
     "text": [
      "Fitting 5 folds for each of 18 candidates, totalling 90 fits\n"
     ]
    },
    {
     "name": "stderr",
     "output_type": "stream",
     "text": [
      "[Parallel(n_jobs=-1)]: Using backend LokyBackend with 8 concurrent workers.\n",
      "[Parallel(n_jobs=-1)]: Done  34 tasks      | elapsed:    2.7s\n",
      "[Parallel(n_jobs=-1)]: Done  90 out of  90 | elapsed:    3.8s finished\n"
     ]
    }
   ],
   "source": [
    "from sklearn.model_selection import GridSearchCV\n",
    "\n",
    "# Create a list of choices for each hyperparameter\n",
    "param_range_svd = [2, 5, 10, 15, 20, 23] # dimension of the data after dimensionality reduction \n",
    "param_range_clf = [5, 10, 20] # number of trees in RandomForest\n",
    "\n",
    "# Create the grid of possible combinations \n",
    "param_grid = [{'svd__n_components': param_range_svd,\n",
    "               'clf__n_estimators': param_range_clf}]\n",
    "\n",
    "# Prepare the Grid Search Fine Tuning \n",
    "gs = GridSearchCV(estimator=pipe_rf, # the model\n",
    "                  param_grid=param_grid, # its hyperparameters possibilities\n",
    "                  scoring='precision', # precision is the evaluation metric\n",
    "                  cv=5, # We use 5 folds in cross validation\n",
    "                  n_jobs=-1,\n",
    "                  return_train_score=True,\n",
    "                  error_score='raise',\n",
    "                  verbose=1)\n",
    "\n",
    "# Test all the possible hyperparamters\n",
    "gs = gs.fit(X_train, y_train.ravel())"
   ]
  },
  {
   "cell_type": "code",
   "execution_count": 12,
   "metadata": {},
   "outputs": [
    {
     "name": "stdout",
     "output_type": "stream",
     "text": [
      "The optimal precision is 0.7634004974232772\n",
      "The optimal hyperparameters are {'clf__n_estimators': 10, 'svd__n_components': 23}\n"
     ]
    }
   ],
   "source": [
    "# The best hyperparameters\n",
    "print(\"The optimal precision is {}\".format(gs.best_score_))\n",
    "print(\"The optimal hyperparameters are {}\".format(gs.best_params_))"
   ]
  },
  {
   "cell_type": "code",
   "execution_count": 13,
   "metadata": {},
   "outputs": [
    {
     "data": {
      "text/plain": [
       "{'fit_time': array([0.07673407, 0.07135296, 0.07201171, 0.06937718, 0.06759501]),\n",
       " 'score_time': array([0.01524806, 0.01568532, 0.01432824, 0.01445079, 0.01453805]),\n",
       " 'test_score': array([0.77083333, 0.7755102 , 0.79591837, 0.75333333, 0.75675676]),\n",
       " 'train_score': array([0.99107143, 0.99279279, 0.99284436, 0.99459459, 0.99641577])}"
      ]
     },
     "execution_count": 13,
     "metadata": {},
     "output_type": "execute_result"
    }
   ],
   "source": [
    "from sklearn.model_selection import cross_validate\n",
    "cross_validate(estimator=gs.best_estimator_, X=X,y=y.ravel(),scoring=\"precision\", cv=5, error_score='raise', return_train_score=True)"
   ]
  },
  {
   "cell_type": "markdown",
   "metadata": {},
   "source": [
    "# Create a 2nd Model : PCA + Logistic Regression"
   ]
  },
  {
   "cell_type": "code",
   "execution_count": 14,
   "metadata": {},
   "outputs": [
    {
     "name": "stdout",
     "output_type": "stream",
     "text": [
      "Fitting 5 folds for each of 30 candidates, totalling 150 fits\n"
     ]
    },
    {
     "name": "stderr",
     "output_type": "stream",
     "text": [
      "[Parallel(n_jobs=-1)]: Using backend LokyBackend with 8 concurrent workers.\n",
      "[Parallel(n_jobs=-1)]: Done  88 tasks      | elapsed:    0.9s\n",
      "[Parallel(n_jobs=-1)]: Done 150 out of 150 | elapsed:    1.3s finished\n"
     ]
    },
    {
     "data": {
      "text/plain": [
       "GridSearchCV(cv=5, error_score='raise',\n",
       "             estimator=Pipeline(steps=[('final_preprocessing',\n",
       "                                        Pipeline(steps=[('manage_na',\n",
       "                                                         FunctionTransformer(func=<function fill_na at 0x7feb4def7ef0>)),\n",
       "                                                        ('add_age_cat',\n",
       "                                                         FunctionTransformer(func=<function categorize_age at 0x7feb4def7830>)),\n",
       "                                                        ('preprocessing',\n",
       "                                                         ColumnTransformer(remainder='passthrough',\n",
       "                                                                           transformers=[('onehotencoder',...\n",
       "                                                                                          <sklearn.compose._column_transformer.make_column_selector object at 0x7feb5341bc10>),\n",
       "                                                                                         ('minmaxscaler',\n",
       "                                                                                          MinMaxScaler(),\n",
       "                                                                                          <sklearn.compose._column_transformer.make_column_selector object at 0x7feb5341bc90>)]))])),\n",
       "                                       ('PCA', PCA(n_components=2)),\n",
       "                                       ('lr',\n",
       "                                        LogisticRegression(C=0.1, penalty='l1',\n",
       "                                                           solver='liblinear'))]),\n",
       "             n_jobs=-1,\n",
       "             param_grid=[{'PCA__n_components': [2, 5, 10, 5, 20],\n",
       "                          'lr__C': [1, 0.5, 0.1],\n",
       "                          'lr__penalty': ['l1', 'l2']}],\n",
       "             scoring='precision', verbose=1)"
      ]
     },
     "execution_count": 14,
     "metadata": {},
     "output_type": "execute_result"
    }
   ],
   "source": [
    "from sklearn.decomposition import PCA\n",
    "from sklearn.linear_model import LogisticRegression\n",
    "\n",
    "pipe_lr = Pipeline(steps=[\n",
    "    ('final_preprocessing',preprocessing_pipeline),\n",
    "    ('PCA', PCA(n_components=2)),\n",
    "    ('lr', LogisticRegression(penalty='l1', C=0.1, solver=\"liblinear\"))\n",
    "])\n",
    "\n",
    "# Create a list of choices for each hyperparameter\n",
    "param_range_pca = [2, 5, 10, 5, 20] # dimension of the data after dimensionality reduction \n",
    "param_lr_penalty = ['l1', 'l2'] \n",
    "param_lr_C = [1,0.5,0.1]\n",
    "\n",
    "# Create the grid of possible combinations \n",
    "param_grid = [{'PCA__n_components': param_range_pca,\n",
    "               'lr__penalty': param_lr_penalty,\n",
    "               'lr__C': param_lr_C}]\n",
    "\n",
    "gs2 = GridSearchCV(estimator=pipe_lr, # the model\n",
    "                  param_grid=param_grid, # its hyperparameters possibilities\n",
    "                  scoring='precision', # precision is the evaluation metric\n",
    "                  cv=5, # We use 5 folds in cross validation\n",
    "                  n_jobs=-1,\n",
    "                  error_score='raise',\n",
    "                  verbose=1)\n",
    "\n",
    "gs2.fit(X_train, y_train.ravel())"
   ]
  },
  {
   "cell_type": "code",
   "execution_count": 15,
   "metadata": {},
   "outputs": [
    {
     "name": "stdout",
     "output_type": "stream",
     "text": [
      "The optimal precision is 0.7526084601252071\n",
      "The optimal hyperparameters are {'PCA__n_components': 20, 'lr__C': 1, 'lr__penalty': 'l1'}\n"
     ]
    }
   ],
   "source": [
    "# The best hyperparameters\n",
    "print(\"The optimal precision is {}\".format(gs2.best_score_))\n",
    "print(\"The optimal hyperparameters are {}\".format(gs2.best_params_))"
   ]
  },
  {
   "cell_type": "code",
   "execution_count": 16,
   "metadata": {},
   "outputs": [
    {
     "data": {
      "text/plain": [
       "{'fit_time': array([0.02446222, 0.02842307, 0.02781701, 0.02658105, 0.02709985]),\n",
       " 'score_time': array([0.01032662, 0.01136494, 0.01302695, 0.01259184, 0.01306009]),\n",
       " 'test_score': array([0.77777778, 0.74251497, 0.76608187, 0.77160494, 0.75925926]),\n",
       " 'train_score': array([0.77897991, 0.7814871 , 0.76796407, 0.76911315, 0.76666667])}"
      ]
     },
     "execution_count": 16,
     "metadata": {},
     "output_type": "execute_result"
    }
   ],
   "source": [
    "cross_validate(estimator=gs2.best_estimator_, \n",
    "               X=X,y=y.ravel(),\n",
    "               scoring=\"precision\", \n",
    "               cv=5, \n",
    "               error_score='raise', \n",
    "               return_train_score=True)"
   ]
  },
  {
   "cell_type": "markdown",
   "metadata": {},
   "source": [
    "# Save the model with joblib"
   ]
  },
  {
   "cell_type": "code",
   "execution_count": 17,
   "metadata": {},
   "outputs": [
    {
     "data": {
      "text/plain": [
       "['pipeline_lr.joblib']"
      ]
     },
     "execution_count": 17,
     "metadata": {},
     "output_type": "execute_result"
    }
   ],
   "source": [
    "from joblib import dump\n",
    "dump(gs2.best_estimator_, \"pipeline_lr.joblib\")"
   ]
  },
  {
   "cell_type": "code",
   "execution_count": 18,
   "metadata": {},
   "outputs": [],
   "source": [
    "from joblib import load\n",
    "model = load(\"pipeline_lr.joblib\")"
   ]
  },
  {
   "cell_type": "code",
   "execution_count": 19,
   "metadata": {},
   "outputs": [],
   "source": [
    "cols = ['Age', 'Sex', 'Job', 'Housing', 'Saving accounts', 'Checking account',\n",
    "       'Credit amount', 'Duration', 'Purpose']\n",
    "data = [k for k in X.iloc[0,:].values]\n",
    "data = pd.DataFrame([data], columns=cols)"
   ]
  },
  {
   "cell_type": "code",
   "execution_count": 20,
   "metadata": {},
   "outputs": [
    {
     "data": {
      "text/plain": [
       "(array([1]), 1)"
      ]
     },
     "execution_count": 20,
     "metadata": {},
     "output_type": "execute_result"
    }
   ],
   "source": [
    "model.predict(data), y[0]"
   ]
  }
 ],
 "metadata": {
  "kernelspec": {
   "display_name": "Python 3",
   "language": "python",
   "name": "python3"
  },
  "language_info": {
   "codemirror_mode": {
    "name": "ipython",
    "version": 3
   },
   "file_extension": ".py",
   "mimetype": "text/x-python",
   "name": "python",
   "nbconvert_exporter": "python",
   "pygments_lexer": "ipython3",
   "version": "3.7.4"
  }
 },
 "nbformat": 4,
 "nbformat_minor": 2
}
